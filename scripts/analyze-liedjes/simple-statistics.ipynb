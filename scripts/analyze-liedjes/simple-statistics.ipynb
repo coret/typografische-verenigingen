{
 "cells": [
  {
   "cell_type": "markdown",
   "id": "c6e37a9e",
   "metadata": {},
   "source": [
    "# Simple Statistics"
   ]
  },
  {
   "cell_type": "markdown",
   "id": "68f81d9f",
   "metadata": {},
   "source": [
    "Deze notebook geeft een overzicht van de data die ik weet over de liedjes (die tot nu toe zijn ingevoerd). Allereerst lees ik de data in een pandas dataframe."
   ]
  },
  {
   "cell_type": "code",
   "execution_count": 1,
   "id": "eb1e8ba4",
   "metadata": {},
   "outputs": [],
   "source": [
    "import pandas as pd\n",
    "\n",
    "df = pd.read_csv(\"../../data/liedjes/liedjes.csv\", index_col=\"id\")"
   ]
  },
  {
   "cell_type": "markdown",
   "id": "6bec9d10",
   "metadata": {},
   "source": [
    "Ik wil een overzicht van het aantal liedjes per jaar."
   ]
  },
  {
   "cell_type": "code",
   "execution_count": 2,
   "id": "f0bb626b",
   "metadata": {},
   "outputs": [
    {
     "data": {
      "text/plain": [
       "1856    58\n",
       "1854    42\n",
       "1853    35\n",
       "1855    28\n",
       "1857    22\n",
       "1858    18\n",
       "1859    16\n",
       "1863    15\n",
       "1861    14\n",
       "185?    12\n",
       "1850     8\n",
       "1860     5\n",
       "1852     4\n",
       "1862     3\n",
       "1849     3\n",
       "1851     2\n",
       "1848     2\n",
       "186?     2\n",
       "Name: jaartal, dtype: int64"
      ]
     },
     "execution_count": 2,
     "metadata": {},
     "output_type": "execute_result"
    }
   ],
   "source": [
    "df['jaartal'].value_counts()"
   ]
  },
  {
   "cell_type": "code",
   "execution_count": 3,
   "id": "581d9b79",
   "metadata": {},
   "outputs": [
    {
     "data": {
      "text/plain": [
       "<AxesSubplot:xlabel='jaartal'>"
      ]
     },
     "execution_count": 3,
     "metadata": {},
     "output_type": "execute_result"
    },
    {
     "data": {
      "image/png": "[encoded data removed]",
      "text/plain": [
       "<Figure size 432x288 with 1 Axes>"
      ]
     },
     "metadata": {
      "needs_background": "light"
     },
     "output_type": "display_data"
    }
   ],
   "source": [
    "grouped = df.groupby('jaartal')\n",
    "counts  = grouped.size()\n",
    "counts.plot(style = 'o')"
   ]
  },
  {
   "cell_type": "markdown",
   "id": "926eca06",
   "metadata": {},
   "source": [
    "Nu per vereniging:"
   ]
  },
  {
   "cell_type": "code",
   "execution_count": 4,
   "id": "e1b09736",
   "metadata": {},
   "outputs": [
    {
     "data": {
      "text/plain": [
       "<AxesSubplot:>"
      ]
     },
     "execution_count": 4,
     "metadata": {},
     "output_type": "execute_result"
    },
    {
     "data": {
      "image/png": "[encoded data removed]",
      "text/plain": [
       "<Figure size 432x288 with 1 Axes>"
      ]
     },
     "metadata": {
      "needs_background": "light"
     },
     "output_type": "display_data"
    }
   ],
   "source": [
    "df['vereniging_schrijver'].value_counts().plot(kind = 'bar')"
   ]
  },
  {
   "cell_type": "code",
   "execution_count": null,
   "id": "7fc7927e",
   "metadata": {},
   "outputs": [],
   "source": []
  }
 ],
 "metadata": {
  "interpreter": {
   "hash": "31f2aee4e71d21fbe5cf8b01ff0e069b9275f58929596ceb00d14d90e3e16cd6"
  },
  "kernelspec": {
   "display_name": "Python 3.6.9 64-bit",
   "language": "python",
   "name": "python3"
  },
  "language_info": {
   "codemirror_mode": {
    "name": "ipython",
    "version": 3
   },
   "file_extension": ".py",
   "mimetype": "text/x-python",
   "name": "python",
   "nbconvert_exporter": "python",
   "pygments_lexer": "ipython3",
   "version": "3.6.9"
  }
 },
 "nbformat": 4,
 "nbformat_minor": 5
}
